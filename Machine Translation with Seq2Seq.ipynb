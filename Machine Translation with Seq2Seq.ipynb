{
  "cells": [
    {
      "cell_type": "markdown",
      "metadata": {
        "id": "Rtnmm0HhFd09"
      },
      "source": [
        "# Practice 3 - Machine Translation with RNN"
      ]
    },
    {
      "cell_type": "markdown",
      "metadata": {
        "id": "KYFphTnWFd0-"
      },
      "source": [
        "## 실습 3.1 - Text Classification with RNN model"
      ]
    },
    {
      "cell_type": "markdown",
      "metadata": {
        "id": "edrGDyoqFd0_"
      },
      "source": [
        "### Dataset Load"
      ]
    },
    {
      "cell_type": "code",
      "execution_count": 1,
      "metadata": {
        "colab": {
          "base_uri": "https://localhost:8080/"
        },
        "id": "UF73jaDcGvpu",
        "outputId": "3c9cb852-071d-49fc-eca5-7db0a329a3c6"
      },
      "outputs": [
        {
          "output_type": "stream",
          "name": "stdout",
          "text": [
            "Drive already mounted at /content/drive; to attempt to forcibly remount, call drive.mount(\"/content/drive\", force_remount=True).\n"
          ]
        }
      ],
      "source": [
        "from google.colab import drive\n",
        "drive.mount('/content/drive')"
      ]
    },
    {
      "cell_type": "code",
      "execution_count": 2,
      "metadata": {
        "_cell_guid": "b1076dfc-b9ad-4769-8c92-a6c4dae69d19",
        "_uuid": "8f2839f25d086af736a60e9eeb907d3b93b6e0e5",
        "colab": {
          "base_uri": "https://localhost:8080/"
        },
        "id": "H8-HIl1NFd0_",
        "outputId": "90a4547f-df08-47ba-fbe9-6c39aa5ec4be",
        "trusted": true
      },
      "outputs": [
        {
          "output_type": "stream",
          "name": "stdout",
          "text": [
            "[['부산', '행', '때문', '너무', '기대하고', '봤'], ['한국', '좀비', '영화', '어색하지', '않게', '만들어졌', '놀랍']]\n"
          ]
        }
      ],
      "source": [
        "with open('/content/drive/MyDrive/2024-1-nlp-3/Korean_movie_reviews_2016.txt/Korean_movie_reviews_2016.txt', encoding='utf-8') as f:\n",
        "    docs = [doc.strip().split('\\t') for doc in f]\n",
        "    docs = [(doc[0], int(doc[1])) for doc in docs if len(doc) == 2]\n",
        "    texts, labels = zip(*docs)\n",
        "\n",
        "words_list = [doc.strip().split() for doc in texts]\n",
        "print(words_list[:2])"
      ]
    },
    {
      "cell_type": "markdown",
      "metadata": {
        "id": "6N_KR4OnFd1A"
      },
      "source": [
        "### Dataset Preprocessing"
      ]
    },
    {
      "cell_type": "code",
      "execution_count": 3,
      "metadata": {
        "id": "AemfKA5gFd1A",
        "trusted": true
      },
      "outputs": [],
      "source": [
        "total_words = []\n",
        "for words in words_list:\n",
        "    total_words.extend(words)\n",
        "\n",
        "from collections import Counter\n",
        "c = Counter(total_words)\n",
        "\n",
        "max_features = 10000\n",
        "common_words = [ word for word, count in c.most_common(max_features)]\n",
        "# 빈도를 기준으로 상위 10000개의 단어들만 선택\n",
        "\n",
        "# 각 단어에 대해서 index 생성하기\n",
        "words_dic ={}\n",
        "for index, word in enumerate(common_words):\n",
        "    words_dic[word]=index+1\n",
        "\n",
        "# 각 문서를 상위 10000개 단어들에 대해서 index 번호로 표현하기\n",
        "filtered_indexed_words = []\n",
        "for review in words_list:\n",
        "    indexed_words=[]\n",
        "    for word in review:\n",
        "        try:\n",
        "            indexed_words.append(words_dic[word])\n",
        "        except:\n",
        "            pass\n",
        "    filtered_indexed_words.append(indexed_words)"
      ]
    },
    {
      "cell_type": "markdown",
      "metadata": {
        "id": "EbTaDXpnFd1A"
      },
      "source": [
        "### Dataset Loader for Model"
      ]
    },
    {
      "cell_type": "code",
      "execution_count": 4,
      "metadata": {
        "id": "hWxNkCL3Fd1B",
        "trusted": true
      },
      "outputs": [],
      "source": [
        "from tensorflow.keras.preprocessing import sequence\n",
        "from tensorflow.keras.utils import to_categorical\n",
        "\n",
        "\n",
        "# X input padding\n",
        "max_len = 40\n",
        "X = sequence.pad_sequences(filtered_indexed_words, maxlen=max_len)\n",
        "\n",
        "# y to one-hot category labeling\n",
        "y_one_hot = to_categorical(labels)"
      ]
    },
    {
      "cell_type": "code",
      "execution_count": 5,
      "metadata": {
        "colab": {
          "base_uri": "https://localhost:8080/"
        },
        "id": "tBEMcj1rFd1B",
        "outputId": "4d25edde-6548-42a7-c9af-05b12463ffc6",
        "trusted": true
      },
      "outputs": [
        {
          "output_type": "stream",
          "name": "stdout",
          "text": [
            "132307\n",
            "33077\n"
          ]
        }
      ],
      "source": [
        "from sklearn.model_selection import train_test_split\n",
        "X_train, X_test, y_train, y_test = train_test_split(X, y_one_hot, test_size=0.2)\n",
        "\n",
        "print(len(X_train))\n",
        "print(len(X_test))"
      ]
    },
    {
      "cell_type": "markdown",
      "metadata": {
        "id": "0sLNr9XqFd1B"
      },
      "source": [
        "## Model Build\n",
        "### 실습 문제 3.1.1 - Bidiricetional LSTM을 구현하여 모델링을 완성하시오\n",
        "#### - from tensorflow.keras import layers 참고\n",
        "#### - 모델링 -> 실습 2 참고\n",
        "#### - https://www.tensorflow.org/api_docs/python/tf/keras/layers/Bidirectional 참고"
      ]
    },
    {
      "cell_type": "code",
      "execution_count": 35,
      "metadata": {
        "colab": {
          "base_uri": "https://localhost:8080/"
        },
        "id": "1Hw69rfsFd1B",
        "outputId": "f83af1b4-93ac-46a5-9990-b538a821dd41",
        "trusted": true
      },
      "outputs": [
        {
          "output_type": "stream",
          "name": "stdout",
          "text": [
            "Model: \"sequential_1\"\n",
            "_________________________________________________________________\n",
            " Layer (type)                Output Shape              Param #   \n",
            "=================================================================\n",
            " embedding_3 (Embedding)     (None, 40, 64)            640064    \n",
            "                                                                 \n",
            " bidirectional_2 (Bidirecti  (None, 64)                24832     \n",
            " onal)                                                           \n",
            "                                                                 \n",
            " dense_8 (Dense)             (None, 2)                 130       \n",
            "                                                                 \n",
            "=================================================================\n",
            "Total params: 665026 (2.54 MB)\n",
            "Trainable params: 665026 (2.54 MB)\n",
            "Non-trainable params: 0 (0.00 Byte)\n",
            "_________________________________________________________________\n"
          ]
        }
      ],
      "source": [
        "from tensorflow.keras import layers\n",
        "from tensorflow.keras import models\n",
        "\n",
        "model = models.Sequential()\n",
        "\n",
        "model.add(layers.Embedding(max_features+1, 64, input_shape=(max_len,)))\n",
        "model.add(layers.Bidirectional(layers.LSTM(32)))\n",
        "model.add(layers.Dense(2, activation='softmax'))\n",
        "model.summary()"
      ]
    },
    {
      "cell_type": "code",
      "execution_count": 7,
      "metadata": {
        "id": "vqgCxPZyFd1C",
        "trusted": true
      },
      "outputs": [],
      "source": [
        "from tensorflow.keras.callbacks import EarlyStopping\n",
        "from tensorflow.keras.callbacks import ModelCheckpoint\n",
        "from tensorflow.keras.optimizers import RMSprop\n",
        "\n",
        "# early stopping 적용\n",
        "es = EarlyStopping(monitor='val_loss', mode='min', verbose=1, patience=5)\n",
        "\n",
        "# local에 저장하고 싶을 경우 이용\n",
        "#checkpoint_filepath = './temp/checkpoint_bi_lstm_kr'\n",
        "#mc = ModelCheckpoint(checkpoint_filepath, monitor='val_loss', mode='min', save_weights_only=True, save_best_only=True)\n",
        "\n",
        "# optimizer에 필요한 옵션 적용\n",
        "# loss와 평가 metric 적용\n",
        "model.compile(optimizer=RMSprop(learning_rate=0.001), loss='binary_crossentropy', metrics=['accuracy'])"
      ]
    },
    {
      "cell_type": "markdown",
      "metadata": {
        "id": "UKkFHYawFd1C"
      },
      "source": [
        "### Training"
      ]
    },
    {
      "cell_type": "code",
      "execution_count": 8,
      "metadata": {
        "colab": {
          "base_uri": "https://localhost:8080/"
        },
        "id": "4ZuMeM7AFd1C",
        "outputId": "935dd27c-2731-43d5-8b07-84d2225903bb",
        "trusted": true
      },
      "outputs": [
        {
          "output_type": "stream",
          "name": "stdout",
          "text": [
            "Epoch 1/5\n",
            "931/931 [==============================] - 53s 43ms/step - loss: 0.3440 - accuracy: 0.8385 - val_loss: 0.2599 - val_accuracy: 0.8923\n",
            "Epoch 2/5\n",
            "931/931 [==============================] - 16s 17ms/step - loss: 0.2488 - accuracy: 0.8993 - val_loss: 0.2573 - val_accuracy: 0.8975\n",
            "Epoch 3/5\n",
            "931/931 [==============================] - 16s 18ms/step - loss: 0.2297 - accuracy: 0.9083 - val_loss: 0.2439 - val_accuracy: 0.9008\n",
            "Epoch 4/5\n",
            "931/931 [==============================] - 15s 16ms/step - loss: 0.2165 - accuracy: 0.9141 - val_loss: 0.2411 - val_accuracy: 0.9005\n",
            "Epoch 5/5\n",
            "931/931 [==============================] - 16s 17ms/step - loss: 0.2053 - accuracy: 0.9196 - val_loss: 0.2377 - val_accuracy: 0.9014\n"
          ]
        }
      ],
      "source": [
        "history = model.fit(X_train, y_train, epochs=5, batch_size=128, validation_split=0.1, callbacks=[es])"
      ]
    },
    {
      "cell_type": "code",
      "execution_count": 9,
      "metadata": {
        "colab": {
          "base_uri": "https://localhost:8080/",
          "height": 449
        },
        "id": "mb1vN2DgFd1D",
        "outputId": "bbf64c81-0e06-4827-e196-9bbff85bbe19",
        "trusted": true
      },
      "outputs": [
        {
          "output_type": "display_data",
          "data": {
            "text/plain": [
              "<Figure size 640x480 with 1 Axes>"
            ],
            "image/png": "[encoded data removed]"
          },
          "metadata": {}
        }
      ],
      "source": [
        "# Training history plot\n",
        "\n",
        "import matplotlib.pyplot as plt\n",
        "plt.plot(history.history['loss'])\n",
        "plt.plot(history.history['val_loss'])\n",
        "plt.xlabel('epoch')\n",
        "plt.ylabel('loss')\n",
        "plt.legend(['train', 'val'])\n",
        "plt.show()"
      ]
    },
    {
      "cell_type": "markdown",
      "metadata": {
        "id": "SuhbFz8TFd1D"
      },
      "source": [
        "### Test"
      ]
    },
    {
      "cell_type": "code",
      "execution_count": 10,
      "metadata": {
        "colab": {
          "base_uri": "https://localhost:8080/"
        },
        "id": "1ehMyZc0Fd1D",
        "outputId": "0a2b73af-8102-4a12-f5e4-0068ae9decc2",
        "trusted": true
      },
      "outputs": [
        {
          "output_type": "stream",
          "name": "stdout",
          "text": [
            "1034/1034 [==============================] - 7s 6ms/step - loss: 0.2442 - accuracy: 0.8984\n",
            "Loss: 0.24415920674800873\n",
            "Accuracy: 0.8983584046363831\n"
          ]
        }
      ],
      "source": [
        "test_loss, test_acc = model.evaluate(X_test, y_test)\n",
        "print(\"Loss:\", test_loss)\n",
        "print(\"Accuracy:\", test_acc)"
      ]
    },
    {
      "cell_type": "markdown",
      "metadata": {
        "id": "aKpZLltgFd1D"
      },
      "source": [
        "## 실습 3.2 - Machine Translation with Seq2Seq model"
      ]
    },
    {
      "cell_type": "code",
      "execution_count": 11,
      "metadata": {
        "id": "R8oScJrkFd1E",
        "trusted": true
      },
      "outputs": [],
      "source": [
        "import tensorflow as tf\n",
        "\n",
        "import matplotlib.pyplot as plt\n",
        "import matplotlib.ticker as ticker\n",
        "from sklearn.model_selection import train_test_split\n",
        "\n",
        "import unicodedata\n",
        "import re\n",
        "import numpy as np\n",
        "import os\n",
        "import io\n",
        "import time"
      ]
    },
    {
      "cell_type": "markdown",
      "metadata": {
        "id": "Hzxnnro9Fd1E"
      },
      "source": [
        "### Dataset Preprocessing"
      ]
    },
    {
      "cell_type": "code",
      "execution_count": 12,
      "metadata": {
        "id": "-cKxQTFyFd1E",
        "trusted": true
      },
      "outputs": [],
      "source": [
        "def unicode_to_ascii(s):\n",
        "    return ''.join(c for c in unicodedata.normalize('NFD', s)\n",
        "        if unicodedata.category(c) != 'Mn')\n",
        "\n",
        "\n",
        "def preprocess_sentence(w):\n",
        "    w = unicode_to_ascii(w.lower().strip())\n",
        "\n",
        "    # 단어와 단어 뒤에 오는 구두점(.)사이에 공백을 생성합니다.\n",
        "    # 예시: \"he is a boy.\" => \"he is a boy .\"\n",
        "    # 참고:- https://stackoverflow.com/questions/3645931/python-padding-punctuation-with-white-spaces-keeping-punctuation\n",
        "    w = re.sub(r\"([?.!,¿])\", r\" \\1 \", w)\n",
        "    w = re.sub(r'[\" \"]+', \" \", w)\n",
        "\n",
        "    # (a-z, A-Z, \".\", \"?\", \"!\", \",\")을 제외한 모든 것을 공백으로 대체합니다.\n",
        "    # w = re.sub(r\"[^a-zA-Z?.!,¿]+\", \" \", w)\n",
        "\n",
        "    w = w.strip()\n",
        "\n",
        "    # 모델이 예측을 시작하거나 중단할 때를 알게 하기 위해서\n",
        "    # 문장에 start와 end 토큰을 추가합니다.\n",
        "    w = '<start> ' + w + ' <end>'\n",
        "    return w"
      ]
    },
    {
      "cell_type": "code",
      "execution_count": 13,
      "metadata": {
        "colab": {
          "base_uri": "https://localhost:8080/"
        },
        "id": "v7i5Rn_hFd1E",
        "outputId": "522fb43b-b90e-4d2e-b3d1-9a3400eb73ba",
        "trusted": true
      },
      "outputs": [
        {
          "output_type": "stream",
          "name": "stdout",
          "text": [
            "<start> one day , i woke up to find that god had put hair on my face . i shaved it off . the next day , i found that god had put it back on my face , so i shaved it off again . on the third day , when i found that god had put hair back on my face again , i decided to let god have his way . that's why i have a beard . <end>\n",
            "<start> un dia , me desperte y vi que dios me habia puesto pelo en la cara . me lo afeite . al dia siguiente , vi que dios me lo habia vuelto a poner en la cara , asi que me lo afeite otra vez . al tercer dia , cuando vi que dios me habia puesto pelo en la cara de nuevo , decidi que dios se saliera con la suya . por eso tengo barba . <end>\n",
            "141543\n",
            "141543\n"
          ]
        }
      ],
      "source": [
        "# 1. 문장에 있는 억양을 제거합니다.\n",
        "# 2. 불필요한 문자를 제거하여 문장을 정리합니다.\n",
        "# 3. 다음과 같은 형식으로 문장의 쌍을 반환합니다: [영어, 스페인어]\n",
        "def create_dataset(path, num_examples):\n",
        "    ens = []\n",
        "    spas = []\n",
        "    lines = io.open(path, encoding='UTF-8').read().strip().split('\\n')\n",
        "    for l in lines[:num_examples]:\n",
        "        word_pairs = [preprocess_sentence(w) for w in l.split('\\t')[:2]]\n",
        "        en, spa = word_pairs\n",
        "        ens.append(en)\n",
        "        spas.append(spa)\n",
        "    return ens, spas\n",
        "\n",
        "path_to_file = '/content/drive/MyDrive/2024-1-nlp-3/spa-eng/spa.txt'\n",
        "en, kor = create_dataset(path_to_file, None)\n",
        "\n",
        "print(en[-1])\n",
        "print(kor[-1])\n",
        "\n",
        "print(len(en))\n",
        "print(len(kor))"
      ]
    },
    {
      "cell_type": "markdown",
      "metadata": {
        "id": "pHmf1oAeFd1F"
      },
      "source": [
        "### Tokenizing & Padding & Data Loading"
      ]
    },
    {
      "cell_type": "code",
      "execution_count": 14,
      "metadata": {
        "id": "HYYgOq7OFd1F",
        "trusted": true
      },
      "outputs": [],
      "source": [
        "def tokenize(lang):\n",
        "    lang_tokenizer = tf.keras.preprocessing.text.Tokenizer(\n",
        "        filters='')\n",
        "    lang_tokenizer.fit_on_texts(lang)\n",
        "    tensor = lang_tokenizer.texts_to_sequences(lang)\n",
        "    tensor = tf.keras.preprocessing.sequence.pad_sequences(tensor,\n",
        "                                                           padding='post')\n",
        "    return tensor, lang_tokenizer"
      ]
    },
    {
      "cell_type": "code",
      "execution_count": 15,
      "metadata": {
        "id": "ODXgCPENFd1F",
        "trusted": true
      },
      "outputs": [],
      "source": [
        "def load_dataset(path, num_examples=None):\n",
        "    # 전처리된 타겟 문장과 입력 문장 쌍을 생성합니다.\n",
        "    targ_lang, inp_lang = create_dataset(path, num_examples)\n",
        "\n",
        "    input_tensor, inp_lang_tokenizer = tokenize(inp_lang)\n",
        "    target_tensor, targ_lang_tokenizer = tokenize(targ_lang)\n",
        "    return input_tensor, target_tensor, inp_lang_tokenizer, targ_lang_tokenizer"
      ]
    },
    {
      "cell_type": "code",
      "execution_count": 16,
      "metadata": {
        "colab": {
          "base_uri": "https://localhost:8080/"
        },
        "id": "7mIVNnpwFd1G",
        "outputId": "1452e217-9efa-4fce-c87d-dba0853e621b",
        "trusted": true
      },
      "outputs": [
        {
          "output_type": "stream",
          "name": "stdout",
          "text": [
            "8000 8000 2000 2000\n"
          ]
        }
      ],
      "source": [
        "# 언어 데이터셋을 아래의 크기로 제한하여 훈련과 검증을 수행합니다.\n",
        "num_examples = 10000\n",
        "input_tensor, target_tensor, inp_lang, targ_lang = load_dataset(path_to_file, num_examples)\n",
        "\n",
        "# 타겟 텐서와 입력 텐서의 최대 길이를 계산합니다.\n",
        "max_length_targ, max_length_inp = target_tensor.shape[1], input_tensor.shape[1]\n",
        "\n",
        "# 훈련 집합과 검증 집합을 80대 20으로 분리합니다.\n",
        "input_tensor_train, input_tensor_val, target_tensor_train, target_tensor_val = train_test_split(input_tensor, target_tensor, test_size=0.2)\n",
        "\n",
        "# 훈련 집합과 검증 집합의 데이터 크기를 출력합니다.\n",
        "print(len(input_tensor_train), len(target_tensor_train), len(input_tensor_val), len(target_tensor_val))"
      ]
    },
    {
      "cell_type": "code",
      "execution_count": 17,
      "metadata": {
        "colab": {
          "base_uri": "https://localhost:8080/"
        },
        "id": "QdbJ8LbYFd1G",
        "outputId": "fc91a762-3960-40e3-bdff-0cf1bd574b7e",
        "trusted": true
      },
      "outputs": [
        {
          "output_type": "stream",
          "name": "stdout",
          "text": [
            "Input Language; index to word mapping\n",
            "1 ----> <start>\n",
            "17 ----> se\n",
            "1412 ----> quemo\n",
            "3 ----> .\n",
            "2 ----> <end>\n",
            "\n",
            "Target Language; index to word mapping\n",
            "1 ----> <start>\n",
            "8 ----> it\n",
            "721 ----> burned\n",
            "3 ----> .\n",
            "2 ----> <end>\n"
          ]
        }
      ],
      "source": [
        "def convert(lang, tensor):\n",
        "    for t in tensor:\n",
        "        if t!=0:\n",
        "            print (\"%d ----> %s\" % (t, lang.index_word[t]))\n",
        "\n",
        "print (\"Input Language; index to word mapping\")\n",
        "convert(inp_lang, input_tensor_train[0])\n",
        "print ()\n",
        "print (\"Target Language; index to word mapping\")\n",
        "convert(targ_lang, target_tensor_train[0])"
      ]
    },
    {
      "cell_type": "markdown",
      "metadata": {
        "id": "jPjcwXaZFd1G"
      },
      "source": [
        "## Model Build for Training"
      ]
    },
    {
      "cell_type": "code",
      "execution_count": 18,
      "metadata": {
        "id": "zrGj__3yFd1G",
        "trusted": true
      },
      "outputs": [],
      "source": [
        "BUFFER_SIZE = len(input_tensor_train)\n",
        "BATCH_SIZE = 128\n",
        "steps_per_epoch = len(input_tensor_train)//BATCH_SIZE\n",
        "embedding_dim = 512\n",
        "units = 1024\n",
        "vocab_inp_size = len(inp_lang.word_index)+1\n",
        "vocab_tar_size = len(targ_lang.word_index)+1\n",
        "\n",
        "dataset = tf.data.Dataset.from_tensor_slices((input_tensor_train, target_tensor_train)).shuffle(BUFFER_SIZE)\n",
        "dataset = dataset.batch(BATCH_SIZE, drop_remainder=True)"
      ]
    },
    {
      "cell_type": "code",
      "execution_count": 19,
      "metadata": {
        "colab": {
          "base_uri": "https://localhost:8080/"
        },
        "id": "WJDMJcUVFd1G",
        "outputId": "5549127f-c614-4285-e5f8-8ac68700acfc",
        "trusted": true
      },
      "outputs": [
        {
          "output_type": "execute_result",
          "data": {
            "text/plain": [
              "(TensorShape([128, 13]), TensorShape([128, 8]))"
            ]
          },
          "metadata": {},
          "execution_count": 19
        }
      ],
      "source": [
        "# dataset 크기 출력\n",
        "example_input_batch, example_target_batch = next(iter(dataset))\n",
        "example_input_batch.shape, example_target_batch.shape"
      ]
    },
    {
      "cell_type": "markdown",
      "metadata": {
        "id": "3OXmTCHTFd1H"
      },
      "source": [
        "## 인코더 모델과 디코더 모델 쓰기\n",
        "어텐션(attention)을 가진 인코더-디코더 모델을 수행합니다. 어텐션(attention)은 TensorFlow Neural Machine Translation (seq2seq) tutorial에서 읽을 수 있습니다. 이 예제는 더 최신의 API 집합을 사용합니다. 이 노트북은 seq2seq 튜토리얼로부터 어텐션 방정식을 수행합니다. 아래의 다이어그램은 각각의 입력 단어가 어텐션 메커니즘에 의해 가중치가 할당된 모습입니다. 이러한 어텐션 메커니즘은 디코더가 문장에서 다음 단어를 예측하기 위해 사용됩니다. 아래의 그림과 공식은 Luong's paper에서 나온 어텐션 메커니즘의 예시입니다.\n",
        "\n",
        "![image.png](attachment:c0952e5c-9c02-49c8-9117-f3fcf6b60447.png)![image.png](attachment:c0444d39-21a8-43e4-9792-86205b74b8ed.png)\n",
        "\n",
        "이 튜토리얼은 인코더를 위해 Bahdanau 어텐션을 사용합니다. 단순화된 형태로 쓰기 전에 표기법을 아래와 같이 정의합니다:\n",
        "\n",
        "FC = 완전 연결(Dense)층\n",
        "EO = 인코더 결과\n",
        "H = 은닉 상태(hidden state)\n",
        "X = 디코더에 대한 입력\n",
        "그리고 다음은 슈도코드입니다:\n",
        "\n",
        "스코어(score)는 FC(tanh(FC(EO) + FC(H)))로 계산합니다.\n",
        "어텐션 가중치는 softmax(score, axis = 1)로 계산합니다. 기본적으로 소프트맥스는 마지막 축을 적용하지만 스코어(score)의 형태가 (batch_size, max_length, hidden_size)이기 때문에 첫번째 축을 적용합니다. Max_length은 입력의 길이입니다. 각각의 입력에 가중치를 할당하려고 시도하기 때문에 소프트맥스는 그 축을 적용할 수 있습니다.\n",
        "컨텍스트 벡터(context vector)는 sum(어텐션 가중치 * EO, axis = 1)로 계산합니다. 위와 같은 이유로 첫번째 축을 선택합니다.\n",
        "임베딩 결과(embedding output)는 디코더 X에 대한 입력이 임베딩층을 통과한 결과입니다.\n",
        "병합된 벡터(merged vector)는 concat(임베딩 결과, 컨텍스트 백터(context vector))와 같습니다.\n",
        "그런 다음 병합된 벡터는 GRU에 주어집니다."
      ]
    },
    {
      "cell_type": "markdown",
      "metadata": {
        "id": "JoqxmiakFd1H"
      },
      "source": [
        "### 실습 문제 3.2.1 - Encoder & Attention & Decoder 각 Class 이해하고 주석 달기"
      ]
    },
    {
      "cell_type": "code",
      "execution_count": 20,
      "metadata": {
        "id": "wRQ_0trqFd1H",
        "trusted": true
      },
      "outputs": [],
      "source": [
        "class Encoder(tf.keras.Model):\n",
        "    def __init__(self, vocab_size, embedding_dim, enc_units, batch_sz):\n",
        "        super(Encoder, self).__init__()\n",
        "        self.batch_sz = batch_sz\n",
        "        self.enc_units = enc_units\n",
        "        # 배치 크기와 은닉 상태 크기를 설정합니다.\n",
        "        # 입력 토큰을 벡터로 변환하는 임베딩 레이어를 설정합니다.\n",
        "        self.embedding = tf.keras.layers.Embedding(vocab_size, embedding_dim)\n",
        "        # GRU 레이어를 설정합니다. 이 레이어는 시퀀스를 처리하고 인코더 상태를 반환합니다.\n",
        "        self.gru = tf.keras.layers.GRU(self.enc_units,\n",
        "                                   return_sequences=True,\n",
        "                                   return_state=True,\n",
        "                                   recurrent_initializer='glorot_uniform')\n",
        "\n",
        "    def call(self, x, hidden):\n",
        "        # 입력을 임베딩 레이어에 통과시킵니다.\n",
        "        x = self.embedding(x)\n",
        "        # 임베딩된 입력을 GRU에 통과시킵니다.\n",
        "        output, state = self.gru(x, initial_state=hidden)\n",
        "        return output, state\n",
        "\n",
        "    def initialize_hidden_state(self):\n",
        "        # 숨겨진 상태를 0으로 초기화합니다.\n",
        "        return tf.zeros((self.batch_sz, self.enc_units))\n",
        "\n",
        "class BahdanauAttention(tf.keras.layers.Layer):\n",
        "    def __init__(self, units):\n",
        "        super(BahdanauAttention, self).__init__()\n",
        "        # 어텐션 가중치를 계산하는데 사용되는 완전 연결 레이어들을 설정합니다.\n",
        "        self.W1 = tf.keras.layers.Dense(units)\n",
        "        self.W2 = tf.keras.layers.Dense(units)\n",
        "        self.V = tf.keras.layers.Dense(1)\n",
        "\n",
        "    def call(self, query, values):\n",
        "        # 어텐션 점수를 계산합니다.\n",
        "        query_with_time_axis = tf.expand_dims(query, 1)\n",
        "        score = self.V(tf.nn.tanh(\n",
        "            self.W1(query_with_time_axis) + self.W2(values)))\n",
        "        # 소프트맥스를 적용하여 어텐션 가중치를 계산합니다.\n",
        "        attention_weights = tf.nn.softmax(score, axis=1)\n",
        "        # 가중 평균을 계산하여 컨텍스트 벡터를 생성합니다.\n",
        "        context_vector = attention_weights * values\n",
        "        context_vector = tf.reduce_sum(context_vector, axis=1)\n",
        "        return context_vector, attention_weights\n",
        "\n",
        "class Decoder(tf.keras.Model):\n",
        "    def __init__(self, vocab_size, embedding_dim, dec_units, batch_sz):\n",
        "        super(Decoder, self).__init__()\n",
        "        self.batch_sz = batch_sz\n",
        "        self.dec_units = dec_units\n",
        "        # 배치 크기와 디코더의 은닉 상태 크기를 설정합니다.\n",
        "        # 목표 토큰을 임베딩하는데 사용되는 임베딩 레이어를 설정합니다.\n",
        "        self.embedding = tf.keras.layers.Embedding(vocab_size, embedding_dim)\n",
        "        # 디코더 입력 및 컨텍스트 벡터를 처리하는데 사용되는 GRU 레이어를 설정합니다.\n",
        "        self.gru = tf.keras.layers.GRU(self.dec_units,\n",
        "                                       return_sequences=True,\n",
        "                                       return_state=True,\n",
        "                                       recurrent_initializer='glorot_uniform')\n",
        "        # 출력 로짓을 생성하기 위한 완전 연결 레이어를 설정합니다.\n",
        "        self.fc = tf.keras.layers.Dense(vocab_size)\n",
        "        # 어텐션 메커니즘을 설정합니다.\n",
        "        self.attention = BahdanauAttention(self.dec_units)\n",
        "\n",
        "    def call(self, x, hidden, enc_output):\n",
        "        # 컨텍스트 벡터와 어텐션 가중치를 계산합니다.\n",
        "        context_vector, attention_weights = self.attention(hidden, enc_output)\n",
        "        # 목표 토큰을 임베딩 레이어에 통과시킵니다.\n",
        "        x = self.embedding(x)\n",
        "        # 컨텍스트 벡터와 임베딩된 입력을 연결합니다.\n",
        "        x = tf.concat([tf.expand_dims(context_vector, 1), x], axis=-1)\n",
        "        # 연결된 벡터를 GRU에 통과시킵니다.\n",
        "        output, state = self.gru(x)\n",
        "        output = tf.reshape(output, (-1, output.shape[2]))\n",
        "        # 출력 로짓을 생성합니다.\n",
        "        x = self.fc(output)\n",
        "        return x, state, attention_weights\n"
      ]
    },
    {
      "cell_type": "markdown",
      "metadata": {
        "id": "fVsVk3BIFd1H"
      },
      "source": [
        "### Encoder-Attention-Decoder 구현"
      ]
    },
    {
      "cell_type": "code",
      "execution_count": 21,
      "metadata": {
        "colab": {
          "base_uri": "https://localhost:8080/"
        },
        "id": "rFpLiI5qFd1H",
        "outputId": "0976fa05-6dd3-44f7-ff4d-ce82ae604910",
        "trusted": true
      },
      "outputs": [
        {
          "output_type": "stream",
          "name": "stdout",
          "text": [
            "Encoder output shape: (batch size, sequence length, units) (128, 13, 1024)\n",
            "Encoder Hidden state shape: (batch size, units) (128, 1024)\n",
            "Attention result shape: (batch size, units) (128, 1024)\n",
            "Attention weights shape: (batch_size, sequence_length, 1) (128, 13, 1)\n",
            "Decoder output shape: (batch_size, vocab size) (128, 2263)\n"
          ]
        }
      ],
      "source": [
        "# encoder\n",
        "encoder = Encoder(vocab_inp_size, embedding_dim, units, BATCH_SIZE)\n",
        "\n",
        "# 샘플 입력\n",
        "sample_hidden = encoder.initialize_hidden_state()  # encoder의 초기 hidden state 설정합니다.\n",
        "sample_output, sample_hidden = encoder(example_input_batch, sample_hidden)  # encoder를 통해 입력 batch 처리합니다.\n",
        "print ('Encoder output shape: (batch size, sequence length, units) {}'.format(sample_output.shape))  # encoder 출력 shape 출력합니다.\n",
        "print ('Encoder Hidden state shape: (batch size, units) {}'.format(sample_hidden.shape))  # encoder 최종 hidden state의 shape 출력합니다.\n",
        "\n",
        "# encoder-decoder attention\n",
        "attention_layer = BahdanauAttention(10)  # BahdanauAttention 객체 생성, attention units는 10으로 설정합니다.\n",
        "attention_result, attention_weights = attention_layer(sample_hidden, sample_output)  # attention 과 weights 계산합니다.\n",
        "\n",
        "print(\"Attention result shape: (batch size, units) {}\".format(attention_result.shape))  # attention shape 출력합니다.\n",
        "print(\"Attention weights shape: (batch_size, sequence_length, 1) {}\".format(attention_weights.shape))  # attention 가중치의 shape 출력합니다.\n",
        "\n",
        "# decoder\n",
        "decoder = Decoder(vocab_tar_size, embedding_dim, units, BATCH_SIZE)  # Decoder 객체를 생성합니다.\n",
        "\n",
        "sample_decoder_output, _, _ = decoder(tf.random.uniform((BATCH_SIZE, 1)),\n",
        "                                      sample_hidden, sample_output)  # decoder를 통해 샘플 입력 처리합니다.\n",
        "\n",
        "print ('Decoder output shape: (batch_size, vocab size) {}'.format(sample_decoder_output.shape))  # decoder 출력 shape 출력합니다.\n"
      ]
    },
    {
      "cell_type": "markdown",
      "metadata": {
        "id": "bhNA2vO3Fd1H"
      },
      "source": [
        "### Training Setup"
      ]
    },
    {
      "cell_type": "code",
      "execution_count": 22,
      "metadata": {
        "colab": {
          "base_uri": "https://localhost:8080/"
        },
        "id": "u6hvUpOMFd1H",
        "outputId": "535a88ff-1271-476c-f3f8-b09ed0c066bb",
        "trusted": true
      },
      "outputs": [
        {
          "output_type": "stream",
          "name": "stderr",
          "text": [
            "WARNING:absl:`lr` is deprecated in Keras optimizer, please use `learning_rate` or use the legacy optimizer, e.g.,tf.keras.optimizers.legacy.AdamW.\n"
          ]
        }
      ],
      "source": [
        "optimizer = tf.keras.optimizers.AdamW(lr=0.001)\n",
        "loss_object = tf.keras.losses.SparseCategoricalCrossentropy(from_logits=True, reduction='none')\n",
        "\n",
        "def loss_function(real, pred):\n",
        "    mask = tf.math.logical_not(tf.math.equal(real, 0))\n",
        "    loss_ = loss_object(real, pred)\n",
        "\n",
        "    mask = tf.cast(mask, dtype=loss_.dtype)\n",
        "    loss_ *= mask\n",
        "\n",
        "    return tf.reduce_mean(loss_)\n",
        "\n",
        "checkpoint = tf.train.Checkpoint(optimizer=optimizer,\n",
        "                                 encoder=encoder,\n",
        "                                 decoder=decoder)"
      ]
    },
    {
      "cell_type": "markdown",
      "metadata": {
        "id": "CYJwvCnXFd1I"
      },
      "source": [
        "### Training!"
      ]
    },
    {
      "cell_type": "markdown",
      "metadata": {
        "id": "3IXmEpktFd1I"
      },
      "source": [
        "언어 모델 훈련하기\n",
        "1. 인코더 결과와 인코더 은닉 상태(hidden state)를 반환하는 인코더를 통해서 입력을 전달합니다.\n",
        "2. 인코더 결과, 인코더 은닉 상태(hidden state), 디코더 입력 (start 토큰)을 디코더에 전달합니다.\n",
        "3. 전달 받은 값을 통해 디코더는 예측 값과 디코더 은닉 상태(hidden state)를 반환합니다.\n",
        "4. 그 다음에 디코더 은닉 상태(hidden state)가 다시 모델에 전달되고 예측 값을 사용하여 손실을 계산합니다.\n",
        "5. 디코더에 대한 다음 입력을 결정하기 위해서 교사 강요(teacher forcing)를 사용합니다.\n",
        "6. 교사 강요(teacher forcing)는 타겟 단어가 디코더에 다음 입력으로 전달하기 위한 기술입니다.\n",
        "7. 마지막 단계는 그레디언트(gradients)를 계산하여 이를 옵티마이저(optimizer)와 역전파(backpropagate)에 적용합니다."
      ]
    },
    {
      "cell_type": "code",
      "execution_count": 23,
      "metadata": {
        "id": "hmmCpQCmFd1I",
        "trusted": true
      },
      "outputs": [],
      "source": [
        "def train_step(inp, targ, enc_hidden):\n",
        "    loss = 0\n",
        "    with tf.GradientTape() as tape:\n",
        "        # encoder\n",
        "        enc_output, enc_hidden = encoder(inp, enc_hidden)\n",
        "        dec_hidden = enc_hidden\n",
        "\n",
        "        # decoder\n",
        "        dec_input = tf.expand_dims([targ_lang.word_index['<start>']] * BATCH_SIZE, 1)\n",
        "\n",
        "        # 교사 강요(teacher forcing) - 다음 입력으로 타겟을 피딩(feeding)합니다.\n",
        "        for t in range(1, targ.shape[1]):\n",
        "            # enc_output를 디코더에 전달합니다.\n",
        "            predictions, dec_hidden, _ = decoder(dec_input, dec_hidden, enc_output)\n",
        "            loss += loss_function(targ[:, t], predictions)\n",
        "\n",
        "            # 교사 강요(teacher forcing)를 사용합니다.\n",
        "            dec_input = tf.expand_dims(targ[:, t], 1)\n",
        "\n",
        "    batch_loss = (loss / int(targ.shape[1]))\n",
        "    variables = encoder.trainable_variables + decoder.trainable_variables\n",
        "    gradients = tape.gradient(loss, variables)\n",
        "    optimizer.apply_gradients(zip(gradients, variables))\n",
        "    return batch_loss"
      ]
    },
    {
      "cell_type": "code",
      "execution_count": 24,
      "metadata": {
        "colab": {
          "base_uri": "https://localhost:8080/"
        },
        "id": "lRiMMM6mFd1I",
        "outputId": "5b2ba57c-f4cd-45a4-f0d1-ad28fadad9be",
        "trusted": true
      },
      "outputs": [
        {
          "output_type": "stream",
          "name": "stderr",
          "text": [
            "WARNING:tensorflow:5 out of the last 5 calls to <function _BaseOptimizer._update_step_xla at 0x7a2f2a864430> triggered tf.function retracing. Tracing is expensive and the excessive number of tracings could be due to (1) creating @tf.function repeatedly in a loop, (2) passing tensors with different shapes, (3) passing Python objects instead of tensors. For (1), please define your @tf.function outside of the loop. For (2), @tf.function has reduce_retracing=True option that can avoid unnecessary retracing. For (3), please refer to https://www.tensorflow.org/guide/function#controlling_retracing and https://www.tensorflow.org/api_docs/python/tf/function for  more details.\n",
            "WARNING:tensorflow:6 out of the last 6 calls to <function _BaseOptimizer._update_step_xla at 0x7a2f2a864430> triggered tf.function retracing. Tracing is expensive and the excessive number of tracings could be due to (1) creating @tf.function repeatedly in a loop, (2) passing tensors with different shapes, (3) passing Python objects instead of tensors. For (1), please define your @tf.function outside of the loop. For (2), @tf.function has reduce_retracing=True option that can avoid unnecessary retracing. For (3), please refer to https://www.tensorflow.org/guide/function#controlling_retracing and https://www.tensorflow.org/api_docs/python/tf/function for  more details.\n"
          ]
        },
        {
          "output_type": "stream",
          "name": "stdout",
          "text": [
            "Epoch 1 / Batch 0 / Loss 4.5792 / Time taken 3.9370551109313965 sec\n",
            "Epoch 1 / Loss 2.1994\n",
            "Time taken for 1 epoch 30.534836292266846 sec\n",
            "\n",
            "Epoch 2 / Batch 0 / Loss 1.6409 / Time taken 0.3307065963745117 sec\n",
            "Epoch 2 / Loss 1.4925\n",
            "Time taken for 2 epoch 21.68673038482666 sec\n",
            "\n",
            "Epoch 3 / Batch 0 / Loss 1.2420 / Time taken 0.33178091049194336 sec\n",
            "Epoch 3 / Loss 1.1105\n",
            "Time taken for 3 epoch 20.57959222793579 sec\n",
            "\n",
            "Epoch 4 / Batch 0 / Loss 0.7990 / Time taken 0.3283991813659668 sec\n",
            "Epoch 4 / Loss 0.7858\n",
            "Time taken for 4 epoch 40.94848132133484 sec\n",
            "\n",
            "Epoch 5 / Batch 0 / Loss 0.5352 / Time taken 0.5177557468414307 sec\n",
            "Epoch 5 / Loss 0.5237\n",
            "Time taken for 5 epoch 20.975592851638794 sec\n",
            "\n"
          ]
        }
      ],
      "source": [
        "# 이 파트가 매우 오래걸림\n",
        "\n",
        "EPOCHS = 5\n",
        "\n",
        "for epoch in range(EPOCHS):\n",
        "    start = time.time()\n",
        "\n",
        "    enc_hidden = encoder.initialize_hidden_state()\n",
        "    total_loss = 0\n",
        "\n",
        "    for (batch, (inp, targ)) in enumerate(dataset.take(steps_per_epoch)):\n",
        "        batch_loss = train_step(inp, targ, enc_hidden)\n",
        "        total_loss += batch_loss\n",
        "\n",
        "        if batch % 100 == 0:\n",
        "            print('Epoch {} / Batch {} / Loss {:.4f} / Time taken {} sec'.format(epoch + 1,\n",
        "                                                                                 batch,\n",
        "                                                                                 batch_loss.numpy(),\n",
        "                                                                                 time.time() - start))\n",
        "    # 에포크가 2번 실행될때마다 모델 저장 (체크포인트)\n",
        "    #if (epoch + 1) % 2 == 0:\n",
        "    #    checkpoint.save(file_prefix = checkpoint_prefix)\n",
        "\n",
        "    print('Epoch {} / Loss {:.4f}'.format(epoch + 1,\n",
        "                                          total_loss / steps_per_epoch))\n",
        "    print('Time taken for {} epoch {} sec\\n'.format(epoch + 1,\n",
        "                                                    time.time() - start))"
      ]
    },
    {
      "cell_type": "code",
      "execution_count": 25,
      "metadata": {
        "id": "GbTRcF0TFd1I",
        "trusted": true
      },
      "outputs": [],
      "source": [
        "def evaluate(sentence):\n",
        "    attention_plot = np.zeros((max_length_targ, max_length_inp))\n",
        "\n",
        "    sentence = preprocess_sentence(sentence)\n",
        "\n",
        "    inputs = [inp_lang.word_index[i] for i in sentence.split(' ')]\n",
        "    inputs = tf.keras.preprocessing.sequence.pad_sequences([inputs],\n",
        "                                                         maxlen=max_length_inp,\n",
        "                                                         padding='post')\n",
        "    inputs = tf.convert_to_tensor(inputs)\n",
        "\n",
        "    result = ''\n",
        "\n",
        "    hidden = [tf.zeros((1, units))]\n",
        "    enc_out, enc_hidden = encoder(inputs, hidden)\n",
        "\n",
        "    dec_hidden = enc_hidden\n",
        "    dec_input = tf.expand_dims([targ_lang.word_index['<start>']], 0)\n",
        "\n",
        "    for t in range(max_length_targ):\n",
        "        predictions, dec_hidden, attention_weights = decoder(dec_input,\n",
        "                                                             dec_hidden,\n",
        "                                                             enc_out)\n",
        "\n",
        "        # 나중에 어텐션 가중치를 시각화하기 위해 어텐션 가중치를 저장합니다.\n",
        "        attention_weights = tf.reshape(attention_weights, (-1, ))\n",
        "        attention_plot[t] = attention_weights.numpy()\n",
        "\n",
        "        predicted_id = tf.argmax(predictions[0]).numpy()\n",
        "\n",
        "        result += targ_lang.index_word[predicted_id] + ' '\n",
        "\n",
        "        if targ_lang.index_word[predicted_id] == '<end>':\n",
        "            return result, sentence, attention_plot\n",
        "\n",
        "        # 예측된 ID를 모델에 다시 피드합니다.\n",
        "        dec_input = tf.expand_dims([predicted_id], 0)\n",
        "\n",
        "    return result, sentence, attention_plot"
      ]
    },
    {
      "cell_type": "code",
      "execution_count": 26,
      "metadata": {
        "id": "VZ9k2YpUFd1J",
        "trusted": true
      },
      "outputs": [],
      "source": [
        "def translate(sentence):\n",
        "    result, sentence, attention_plot = evaluate(sentence)\n",
        "\n",
        "    print('Input: %s' % (sentence))\n",
        "    print('Predicted translation: {}'.format(result))"
      ]
    },
    {
      "cell_type": "code",
      "execution_count": 27,
      "metadata": {
        "colab": {
          "base_uri": "https://localhost:8080/"
        },
        "id": "D5OMuwzxFd1J",
        "outputId": "c4a34500-5c86-4462-ff74-fc844910440d",
        "trusted": true
      },
      "outputs": [
        {
          "output_type": "stream",
          "name": "stdout",
          "text": [
            "Input: <start> hace mucho frio aqui . <end>\n",
            "Predicted translation: it's too here . <end> \n"
          ]
        }
      ],
      "source": [
        "translate(u'hace mucho frio aqui.')"
      ]
    },
    {
      "cell_type": "markdown",
      "metadata": {
        "id": "yGQYZSrTFd1J"
      },
      "source": [
        "### 실습 문제 3.2.2 - BLEU 스코어 구현하기\n",
        "#### - Dataset Sample에서 Test 만들기\n",
        "#### - BLEU Score 구현\n",
        "#### - 학습된 모델로 BLEU Score로 평가하기"
      ]
    },
    {
      "cell_type": "code",
      "execution_count": 34,
      "metadata": {
        "id": "KK4TnBnSFd1J"
      },
      "outputs": [],
      "source": [
        "# 데이터 셋의 10프로를 테스트 셋으로 설정\n",
        "input_tensor_val, input_tensor_test, target_tensor_val, target_tensor_test = train_test_split(input_tensor_val, target_tensor_val, test_size=0.5)"
      ]
    },
    {
      "cell_type": "code",
      "execution_count": 33,
      "metadata": {
        "colab": {
          "base_uri": "https://localhost:8080/"
        },
        "id": "YBXRbnhommc8",
        "outputId": "57eebdbb-582c-43e0-b018-27e7a08e7196"
      },
      "outputs": [
        {
          "output_type": "stream",
          "name": "stdout",
          "text": [
            "BLEU Score: 0.242971150164143\n"
          ]
        }
      ],
      "source": [
        "from nltk.translate.bleu_score import corpus_bleu\n",
        "from nltk.translate.bleu_score import SmoothingFunction\n",
        "\n",
        "#BLEU Score\n",
        "def bleu_score(references, candidates):\n",
        "    smoothie = SmoothingFunction().method4\n",
        "    bleu_scores = []\n",
        "    for ref, cand in zip(references, candidates):\n",
        "        ref_tokens = ref.split()\n",
        "        cand_tokens = cand.split()\n",
        "        bleu_scores.append(\n",
        "            corpus_bleu([[ref_tokens]], [cand_tokens], weights=(0.25, 0.25, 0.25, 0.25), smoothing_function=smoothie)\n",
        "        )\n",
        "    return sum(bleu_scores) / len(bleu_scores)\n",
        "predictions = []\n",
        "references = []\n",
        "for input_seq, target_seq in zip(input_tensor_test, target_tensor_test):\n",
        "    prediction, _, _ = evaluate(inp_lang.sequences_to_texts([input_seq])[0])\n",
        "    target = targ_lang.sequences_to_texts([target_seq])[0]\n",
        "    predictions.append(prediction)\n",
        "    references.append(target)\n",
        "bleu_score = bleu_score(references, predictions)\n",
        "print(f\"BLEU Score: {bleu_score}\")"
      ]
    },
    {
      "cell_type": "markdown",
      "metadata": {
        "id": "Z6gZPCb9Fd1J"
      },
      "source": [
        "### 실습 문제 3.2.3 - Hyperparmeter 튜닝으로 번역 성능 높이기\n",
        "#### - 어떤 방안을 활용해 성능을 높였는지?\n",
        "#### - 성능이 정량적으로 얼마나 높아졌는지?"
      ]
    },
    {
      "cell_type": "code",
      "execution_count": 30,
      "metadata": {
        "id": "lba8QXyTFd1J"
      },
      "outputs": [],
      "source": [
        "# your code here"
      ]
    },
    {
      "cell_type": "code",
      "source": [],
      "metadata": {
        "id": "zTPrp21_h9uP"
      },
      "execution_count": 30,
      "outputs": []
    }
  ],
  "metadata": {
    "accelerator": "GPU",
    "colab": {
      "gpuType": "T4",
      "provenance": []
    },
    "kaggle": {
      "accelerator": "none",
      "dataSources": [
        {
          "databundleVersionId": 8315984,
          "sourceId": 75475,
          "sourceType": "competition"
        },
        {
          "datasetId": 4852358,
          "sourceId": 8193063,
          "sourceType": "datasetVersion"
        }
      ],
      "dockerImageVersionId": 30702,
      "isGpuEnabled": false,
      "isInternetEnabled": true,
      "language": "python",
      "sourceType": "notebook"
    },
    "kernelspec": {
      "display_name": "Python 3",
      "name": "python3"
    },
    "language_info": {
      "codemirror_mode": {
        "name": "ipython",
        "version": 3
      },
      "file_extension": ".py",
      "mimetype": "text/x-python",
      "name": "python",
      "nbconvert_exporter": "python",
      "pygments_lexer": "ipython3",
      "version": "3.10.13"
    }
  },
  "nbformat": 4,
  "nbformat_minor": 0
}